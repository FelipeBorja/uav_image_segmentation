{
 "cells": [
  {
   "cell_type": "code",
   "execution_count": null,
   "metadata": {},
   "outputs": [],
   "source": [
    "import torch\n",
    "import numpy as np\n",
    "from PIL import Image\n",
    "import matplotlib.pyplot as plt\n",
    "from model import EfficientFPN\n",
    "import torch.nn.functional as F\n",
    "from albumentations.pytorch import ToTensorV2\n",
    "import albumentations as A\n",
    "\n",
    "albu_dev = A.Compose([\n",
    "    A.Normalize(),\n",
    "    ToTensorV2(),\n",
    "])"
   ]
  },
  {
   "cell_type": "code",
   "execution_count": null,
   "metadata": {},
   "outputs": [],
   "source": [
    "model = EfficientFPN(encoder_name='efficientnet-b2', use_context_block=True, use_mish=True)#, use_attention=True)    \n",
    "state = torch.load('models/model-b2-2.pth', map_location=lambda storage, loc: storage)\n",
    "    \n",
    "model.load_state_dict(state[\"state_dict\"])\n",
    "\n",
    "#device = torch.device(\"cuda:0\")\n",
    "device = torch.device(\"cpu\")\n",
    "model = model.to(device)\n",
    "model = model.eval()"
   ]
  },
  {
   "cell_type": "code",
   "execution_count": null,
   "metadata": {},
   "outputs": [],
   "source": [
    "def run_test(fname, downscale_f = 1):\n",
    "    block = 1024\n",
    "    \n",
    "    #import time\n",
    "    #tic = time.time()\n",
    "\n",
    "    img = Image.open(fname).convert('RGB')\n",
    "    new_0 = int(np.round(downscale_f*np.size(img)[0]))\n",
    "    new_1 = int(np.round(downscale_f*np.size(img)[1]))\n",
    "    img = img.resize((new_0,new_1))\n",
    "    nimg = np.array(img)\n",
    "    data = albu_dev(image=nimg)\n",
    "    nimg = data['image'].float()\n",
    "    p_width = block - nimg.size(2)%block\n",
    "    p_height = block - nimg.size(1)%block\n",
    "    nimg = F.pad(nimg, (0, p_width, 0, p_height))\n",
    "\n",
    "    patches = nimg.data.unfold(0, 3, 3).unfold(1, block, block).unfold(2, block, block)\n",
    "    p = patches.reshape(-1,3,block,block)\n",
    "    out_size=list(p.size())\n",
    "    out_size.pop(1)\n",
    "    outputs = torch.empty(out_size)\n",
    "    dice = torch.empty(out_size)\n",
    "    with torch.no_grad():\n",
    "        for i in range(p.size(0)):\n",
    "            pi = p[i,:,:,:].unsqueeze(0)\n",
    "            pi= pi.to(device)\n",
    "            out, d, cls, scale = model(pi)\n",
    "            out_log = F.softmax(out, 1)\n",
    "            out_log = F.interpolate(out_log, size=(block, block), mode='bilinear', align_corners=False)\n",
    "            out_log = out_log[:, 1].detach()#.numpy()\n",
    "            outputs[i,:,:]=out_log\n",
    "\n",
    "            d = torch.sigmoid(d)\n",
    "            d = F.interpolate(d, size=(block, block), mode='bilinear', align_corners=False)\n",
    "            d[d < 0.5] = 0\n",
    "            d[d >= 0.5] = 1\n",
    "            d = d[0, 0, :, :].detach()#.numpy() * 255\n",
    "            dice[i,:,:] = d\n",
    "    finalsize=list(patches.size())\n",
    "    finalsize[3]=1\n",
    "    p_out = outputs.reshape(finalsize)\n",
    "    p_d = dice.reshape(finalsize)\n",
    "    out_sz=list(nimg.size())\n",
    "\n",
    "    re_o = p_out.permute(0, 3, 1, 4, 2, 5).contiguous().reshape(out_sz[1:])#.view_as(nimg)\n",
    "    re_o = re_o.numpy()\n",
    "\n",
    "    re_d = p_d.permute(0, 3, 1, 4, 2, 5).contiguous().reshape(out_sz[1:])#.view_as(nimg)\n",
    "    re_d = re_d.numpy() * 255\n",
    "    re_d = re_d.astype(np.uint8)\n",
    "    #toc = time.time()\n",
    "    #print(toc-tic)\n",
    "    plt.imshow(np.array(img))\n",
    "    plt.show()\n",
    "    plt.imshow(re_o[:new_1,:new_0])\n",
    "    plt.show()\n",
    "    plt.imshow(re_d[:new_1,:new_0])\n",
    "    plt.show()\n",
    "    img = np.array(img)\n",
    "    seg = re_d[:new_1,:new_0]\n",
    "    im_mask = np.zeros_like(img)\n",
    "    idx=(seg==255)\n",
    "    im_mask[idx]=img[idx]\n",
    "    plt.imshow(im_mask)\n",
    "    return im_mask"
   ]
  },
  {
   "cell_type": "code",
   "execution_count": null,
   "metadata": {},
   "outputs": [],
   "source": [
    "fname = 'silos.JPG'\n",
    "mask = run_test(fname, downscale_f = 1)"
   ]
  },
  {
   "cell_type": "code",
   "execution_count": null,
   "metadata": {},
   "outputs": [],
   "source": [
    "fname = 'silos.JPG'\n",
    "mask = run_test(fname, downscale_f = 0.5)"
   ]
  },
  {
   "cell_type": "code",
   "execution_count": null,
   "metadata": {},
   "outputs": [],
   "source": [
    "fname = 'silos.JPG'\n",
    "mask = run_test(fname, downscale_f = 0.25)"
   ]
  },
  {
   "cell_type": "code",
   "execution_count": null,
   "metadata": {},
   "outputs": [],
   "source": [
    "fname = 'silos.JPG'\n",
    "mask = run_test(fname, downscale_f = 0.125)"
   ]
  },
  {
   "cell_type": "code",
   "execution_count": null,
   "metadata": {},
   "outputs": [],
   "source": [
    "fname = 'image24.jpg'\n",
    "mask = run_test(fname, downscale_f = .25)"
   ]
  },
  {
   "cell_type": "code",
   "execution_count": null,
   "metadata": {},
   "outputs": [],
   "source": [
    "fname = 'test/IMG_200319_131911_0105_RGB.JPG'\n",
    "mask = run_test(fname, downscale_f = 1)"
   ]
  },
  {
   "cell_type": "code",
   "execution_count": null,
   "metadata": {},
   "outputs": [],
   "source": []
  },
  {
   "cell_type": "code",
   "execution_count": null,
   "metadata": {},
   "outputs": [],
   "source": [
    "fname = 'test/IMG_200319_131911_0105_RGB.JPG'\n",
    "mask = run_test(fname, downscale_f = 0.25)"
   ]
  },
  {
   "cell_type": "code",
   "execution_count": null,
   "metadata": {},
   "outputs": [],
   "source": [
    "fname = 'test/IMG_200319_131911_0105_RGB.JPG'\n",
    "mask = run_test(fname, downscale_f = 0.2)"
   ]
  },
  {
   "cell_type": "code",
   "execution_count": null,
   "metadata": {},
   "outputs": [],
   "source": [
    "fname = 'test/IMG_200319_131911_0105_RGB.JPG'\n",
    "mask = run_test(fname, downscale_f = 0.15)"
   ]
  },
  {
   "cell_type": "code",
   "execution_count": null,
   "metadata": {},
   "outputs": [],
   "source": [
    "fname = 'test/IMG_200319_131911_0105_RGB.JPG'\n",
    "mask = run_test(fname, downscale_f = 0.1)"
   ]
  },
  {
   "cell_type": "code",
   "execution_count": null,
   "metadata": {},
   "outputs": [],
   "source": [
    "fname = 'test/IMG_200319_114724_0497_RGB.JPG'\n",
    "mask = run_test(fname, downscale_f = 1)"
   ]
  },
  {
   "cell_type": "code",
   "execution_count": null,
   "metadata": {},
   "outputs": [],
   "source": [
    "#fname = 'test/IMG_200319_114029_0348_RGB.JPG'\n",
    "mask = run_test(fname, downscale_f = 0.25)"
   ]
  },
  {
   "cell_type": "code",
   "execution_count": null,
   "metadata": {},
   "outputs": [],
   "source": [
    "#fname = 'test/IMG_200319_114029_0348_RGB.JPG'\n",
    "mask = run_test(fname, downscale_f = 0.2)"
   ]
  },
  {
   "cell_type": "code",
   "execution_count": null,
   "metadata": {},
   "outputs": [],
   "source": [
    "#fname = 'test/IMG_200319_114029_0348_RGB.JPG'\n",
    "mask = run_test(fname, downscale_f = 0.15)"
   ]
  },
  {
   "cell_type": "code",
   "execution_count": null,
   "metadata": {},
   "outputs": [],
   "source": [
    "#fname = 'test/IMG_200319_114029_0348_RGB.JPG'\n",
    "mask = run_test(fname, downscale_f = 0.1)"
   ]
  },
  {
   "cell_type": "code",
   "execution_count": null,
   "metadata": {},
   "outputs": [],
   "source": []
  }
 ],
 "metadata": {
  "kernelspec": {
   "display_name": "Python 3",
   "language": "python",
   "name": "python3"
  },
  "language_info": {
   "codemirror_mode": {
    "name": "ipython",
    "version": 3
   },
   "file_extension": ".py",
   "mimetype": "text/x-python",
   "name": "python",
   "nbconvert_exporter": "python",
   "pygments_lexer": "ipython3",
   "version": "3.7.10"
  }
 },
 "nbformat": 4,
 "nbformat_minor": 4
}
